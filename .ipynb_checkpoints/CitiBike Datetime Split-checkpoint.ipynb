{
 "cells": [
  {
   "cell_type": "code",
   "execution_count": 16,
   "metadata": {},
   "outputs": [],
   "source": [
    "import pandas as pd\n",
    "import numpy as np"
   ]
  },
  {
   "cell_type": "code",
   "execution_count": 14,
   "metadata": {},
   "outputs": [],
   "source": [
    "def pd_split():\n",
    "    filename = \"202001-sample.csv\"\n",
    "    df = pd.read_csv(filename)\n",
    "    \n",
    "    df[['startdate','starttime']] = df['starttime'].str.split(' ',expand=True)\n",
    "    df[['enddate','stoptime']] = df['stoptime'].str.split(' ',expand=True)\n",
    "    \n",
    "    df.to_csv(\"202001-dt.csv\")"
   ]
  },
  {
   "cell_type": "code",
   "execution_count": 15,
   "metadata": {},
   "outputs": [],
   "source": [
    "pd_split()"
   ]
  },
  {
   "cell_type": "code",
   "execution_count": null,
   "metadata": {},
   "outputs": [],
   "source": [
    "def clean_up():\n",
    "    filename=\"202001-dt.csv\"\n",
    "    df=pd.read_csv(filename)\n",
    "    \n",
    "    del df[\"\",\"Unnamed: 0\"]\n",
    "    "
   ]
  }
 ],
 "metadata": {
  "kernelspec": {
   "display_name": "Python 3",
   "language": "python",
   "name": "python3"
  },
  "language_info": {
   "codemirror_mode": {
    "name": "ipython",
    "version": 3
   },
   "file_extension": ".py",
   "mimetype": "text/x-python",
   "name": "python",
   "nbconvert_exporter": "python",
   "pygments_lexer": "ipython3",
   "version": "3.7.7"
  }
 },
 "nbformat": 4,
 "nbformat_minor": 4
}
